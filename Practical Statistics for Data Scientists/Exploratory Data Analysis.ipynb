{
 "cells": [
  {
   "cell_type": "markdown",
   "metadata": {},
   "source": [
    "# Chapter 1: Exploratory Data Analysis\n",
    "\n",
    "## Elements of Structured Data\n",
    "- In this section they are simply stating the type of data we can stumble upon (continuous, discrete, categorical, binary and ordinal)\n",
    "\n",
    "## Rectangular Data\n",
    "- In this section they showcase what kind of data format is used in data science. It's mostly the Rectangular Data format (spreadsheet like).\n",
    "- data.frame doesn't support hierarchical indexing so you have to use external packages data.table and dplyr.\n",
    "- They also show other type of data format other than the rectangular one: Time series, Spatial and Network based (Graph).\n",
    "\n",
    "## Estimate of Location\n",
    "- In this section they showcase different way of getting a typical value for a dataset with the purpose of summarizing this dataset.\n",
    "- A list of these measure is given: Mean, Weighted Mean, Median, Weighted Median, Trimmed Mean\n",
    "- Here I'll use the formula to create the function to calculate these centrality measures"
   ]
  },
  {
   "cell_type": "code",
   "execution_count": 1,
   "metadata": {},
   "outputs": [
    {
     "name": "stdout",
     "output_type": "stream",
     "text": [
      "[1] \"Mean:  5  Should give 5\"\n",
      "[1] \"Weighted Mean:  4.7  Should give 4.7\"\n",
      "[1] \"Trimmed Mean:  5  Should give 5\"\n",
      "[1] \"Median:  5  Should give 5\"\n",
      "[1] \"Weighted Median  4\"\n"
     ]
    }
   ],
   "source": [
    "# Test data\n",
    "values <- c(1,2,3,4,5,6,7,8,9)\n",
    "weights <- c(0.1,0.2,0.1,0.1,0.1,0.1,0.1,0.1,0.1)\n",
    "# Mean\n",
    "# Definition: sum of all values divided by the number of values\n",
    "my_mean <- function(values) {\n",
    "    sum <- 0\n",
    "    for (value in values){\n",
    "        sum <- sum + value\n",
    "    }\n",
    "    \n",
    "    return(sum/length(values))\n",
    "}\n",
    "\n",
    "# Weighted Mean\n",
    "# Definition: sum the multiplication of each element at x_i by a weight w_i and divide by the sum of the weights\n",
    "my_weighted_mean <- function(values, weights){\n",
    "    # here some error checking would be a good idea\n",
    "    # to make sure that the weights and values vector are of the same size\n",
    "    stopifnot(length(values) == length(weights))\n",
    "    \n",
    "    sum_value <- 0\n",
    "    for (i in 1:length(values)){\n",
    "        sum_value <- sum_value + values[i]*weights[i]\n",
    "    }\n",
    "    \n",
    "    sum_weight <- 0\n",
    "    for (weight in weights){\n",
    "        sum_weight <- sum_weight + weight\n",
    "    }\n",
    "    \n",
    "    return (sum_value/sum_weight)\n",
    "}\n",
    "\n",
    "# Median\n",
    "# Definition: is the middle number in a sorted list of data for odd length vector\n",
    "#             if the vector is even then its the average of the two middle number\n",
    "my_median <- function(values){\n",
    "    #Sorting\n",
    "    values <- sort(values)\n",
    "    if(length(values) %% 2 == 0){\n",
    "        mid_i_1 = (length(values)/2)\n",
    "        mid_i_2 = (length(values)/2) + 1\n",
    "        return ((values[mid_i_1] + values[mid_i_2])/2)\n",
    "    }\n",
    "    return (values[ceiling(length(values)/2)])\n",
    "}\n",
    "\n",
    "# Weighted Median\n",
    "\n",
    "my_weighted_median <- function(values, weights){\n",
    "    \n",
    "    # Here we assume that the weights sum up to 1    \n",
    "    stopifnot(sum(weights) == 1)\n",
    "    \n",
    "    # Sorting the values (and their weigts) so as to calculate the median\n",
    "    swap_order = order(values, decreasing=FALSE)\n",
    "    values = values[swap_order]\n",
    "    weights = weights[swap_order]\n",
    "    \n",
    "    # sort both the values and the weights based on the median\n",
    "    sum_weights = 0\n",
    "    median_index = -1\n",
    "    for (i in 1:length(values)){\n",
    "        sum_weights = sum_weights + weights[i]\n",
    "        \n",
    "        if(sum_weights > 0.5){\n",
    "            median_index = i-1\n",
    "            break;\n",
    "        }\n",
    "    }\n",
    "    \n",
    "    # If the vector is even we have to take the mean of the medians\n",
    "    if(length(values) %% 2 == 0){\n",
    "        return ((values[median_index] + values[median_index+1]) / 2)\n",
    "    }else{\n",
    "        return (values[median_index])\n",
    "    }\n",
    "\n",
    "}\n",
    "\n",
    "# Trimmed Mean\n",
    "# Definition: sum of all values divided by the number of values after \n",
    "#             dropping the top and bottom trim_amount values.\n",
    "my_trimmed_mean <- function(values, trim_amount=0.3){\n",
    "    # Calculating the number of values to reject at each end\n",
    "    num_rejected <- floor(trim_amount*length(values))\n",
    "    \n",
    "    # Trimming the values and calculating the mean of the remainder\n",
    "    start <- 1+num_rejected\n",
    "    end <- length(values) - num_rejected\n",
    "    return (my_mean(values[start:end])) \n",
    "}\n",
    "\n",
    "# Testing\n",
    "print(paste(\"Mean: \" ,toString(my_mean(values)), \" Should give 5\"))\n",
    "print(paste(\"Weighted Mean: \" ,toString(my_weighted_mean(values, weights)), \" Should give 4.7\"))\n",
    "print(paste(\"Trimmed Mean: \" ,toString(my_trimmed_mean(values, 0.5)), \" Should give 5\"))\n",
    "print(paste(\"Median: \" ,toString(my_median(values)), \" Should give 5\"))\n",
    "print(paste(\"Weighted Median \", toString(my_weighted_median(values,weights), \"Should give 4\")))"
   ]
  },
  {
   "cell_type": "markdown",
   "metadata": {},
   "source": [
    " - The previous code was great to generate from scratch since I learned how these measure of centrality really work.\n",
    " \n",
    " ## Estimate of Variability\n",
    " - In this chapter we look at the metric that can describe the amount of dispersion in a dataset.\n",
    " - Mean absolute deviation is what is usually called the l1-norm. It's the `sum(xi - mean_x) / n`\n",
    " - We also have the Variance which is equal to: `sum(x_i - mean_x)^2 / (n-1)` We are using n-1 because we have n-1 degree of freedom since we are using the one of our degree of freedom to calculate mean_x. This is a unbiased estimate, if we used n it would be a biased estimate.\n",
    " - The standard deviation is the square-root of the variance and its called the l2-norm.\n",
    " - An Lp norm is the `pth_root(sum(x_i - mean_x)^p) / (n-1)`\n",
    " - The estimate of variability so far are not robust to outlier, one that is robut is the MAD which stands for Median Absolute Deviation. It is calculated as : `Median(|x1-m|,|x2-m|,...,|xN-m|)`.\n",
    " - All of these estimate are not equivalent to each other though, the MAD is always the smallest.\n",
    " - One another thing we can do is sort the data and look at the spread based on percentiles. Median is equal to the 50th percentile.\n",
    " - The interquartile range is the difference between the 25th and the 75th percentile.\n",
    " - Calculating exact percentile can be expensive if our dataset is huge."
   ]
  },
  {
   "cell_type": "code",
   "execution_count": 2,
   "metadata": {},
   "outputs": [
    {
     "name": "stdout",
     "output_type": "stream",
     "text": [
      "[1] 2.738613\n",
      "[1] 4\n",
      "  0%  25%  50%  75% 100% \n",
      "   1    3    5    7    9 \n",
      "[1] 2.9652\n"
     ]
    }
   ],
   "source": [
    "# Here is how we can calculate the standard deviation \n",
    "print(sd(values))\n",
    "# the interquartile range (IQR)\n",
    "print(IQR(values))\n",
    "# the quantiles\n",
    "print(quantile(values))\n",
    "# and the MAD\n",
    "print(mad(values))\n"
   ]
  },
  {
   "cell_type": "markdown",
   "metadata": {},
   "source": [
    "## Exploring the Data Distribution\n",
    "- Boxplot are a visual tool to look at percentile to get an idea of the spread\n"
   ]
  },
  {
   "cell_type": "code",
   "execution_count": 4,
   "metadata": {},
   "outputs": [
    {
     "data": {
      "image/png": "[encoded data removed]",
      "text/plain": [
       "plot without title"
      ]
     },
     "metadata": {},
     "output_type": "display_data"
    }
   ],
   "source": [
    "boxplot(values, ylab=\"Dummy Values\")"
   ]
  },
  {
   "cell_type": "markdown",
   "metadata": {},
   "source": [
    "- Whiskers usually try to go as far as possible however, they won't go more than 1.5 times the interquartile range in R.\n",
    "- We also have frequency table and histogram that can show us a bit more details about the variability. These two type of tools use bin of same sizes (not to be confounded with bar plot).\n",
    "- Density estimate are similar to histogram however, they are a continous line instead of blocky values (there is many way to do the density estimation using kernel density)"
   ]
  },
  {
   "cell_type": "code",
   "execution_count": 18,
   "metadata": {},
   "outputs": [
    {
     "data": {
      "text/plain": [
       "pop_freqs\n",
       "[1,3] (3,5] (5,7] (7,9] \n",
       "    3     2     2     2 "
      ]
     },
     "metadata": {},
     "output_type": "display_data"
    },
    {
     "data": {
      "image/png": "[encoded data removed]",
      "text/plain": [
       "Plot with title \"Histogram of values\""
      ]
     },
     "metadata": {},
     "output_type": "display_data"
    },
    {
     "data": {
      "image/png": "[encoded data removed]",
      "text/plain": [
       "Plot with title \"Histogram of values\""
      ]
     },
     "metadata": {},
     "output_type": "display_data"
    }
   ],
   "source": [
    "breaks <- seq(from=min(values), to=max(values), length=5)\n",
    "pop_freqs <- cut(values, breaks=breaks, right=TRUE, include.lowest = TRUE)\n",
    "# This won't be very informative here though\n",
    "table(pop_freqs) \n",
    "# Here neither\n",
    "hist(values, breaks=breaks)\n",
    "# Here we'll look at the histogram with the density estimation\n",
    "hist(values, freq=FALSE)\n",
    "lines(density(values), lwd=3, col=\"blue\")\n",
    "# beautiful plots 10/10"
   ]
  },
  {
   "cell_type": "markdown",
   "metadata": {},
   "source": [
    "## Exploring Binary and Categorical Data\n",
    "- Mode is simply the most occuring category or value in a data set\n",
    "- Barplot are great to show the amount of each categorical variables"
   ]
  },
  {
   "cell_type": "code",
   "execution_count": 8,
   "metadata": {},
   "outputs": [
    {
     "data": {
      "image/png": "[encoded data removed]",
      "text/plain": [
       "plot without title"
      ]
     },
     "metadata": {},
     "output_type": "display_data"
    }
   ],
   "source": [
    "# Super simple to put together\n",
    "data = c(1,2,3)\n",
    "labels = c('a','b','c')\n",
    "barplot(data, names.arg=labels)"
   ]
  },
  {
   "cell_type": "markdown",
   "metadata": {},
   "source": [
    "- An expected value can be calculated when we have categories that can be mapped to discrete values. We need to have probabilities of occurence for each categories and then do a weighted mean.\n",
    "- To have a positive correlation two variable needs to be going up or down together, to be negatively correlated one variable need to go up while the other goes down.\n",
    "- Scatterplot are good to show correlation, but we need to have a correlation coefficient to put a metric on what we see with the plot.\n",
    "- Pearson's correlation coefficient is a standardized vector sum. Here is one implementation:"
   ]
  },
  {
   "cell_type": "code",
   "execution_count": 13,
   "metadata": {},
   "outputs": [],
   "source": [
    "# Pearson's Correlation Coefficient which range from -1 to 1\n",
    "pearson_corr <- function(X1, X2){\n",
    "    # Here we check that X1 an  X2 have the same length\n",
    "    stopifnot(length(X1) == length(X2))\n",
    "    \n",
    "    N = length(X1)\n",
    "    \n",
    "}\n",
    "\n",
    "X1 = c(1,2,3)\n",
    "X2 = c(4,5,6)\n",
    "pearson_corr(X1, X2)"
   ]
  },
  {
   "cell_type": "code",
   "execution_count": 17,
   "metadata": {},
   "outputs": [],
   "source": []
  },
  {
   "cell_type": "code",
   "execution_count": null,
   "metadata": {},
   "outputs": [],
   "source": []
  }
 ],
 "metadata": {
  "kernelspec": {
   "display_name": "R",
   "language": "R",
   "name": "ir"
  },
  "language_info": {
   "codemirror_mode": "r",
   "file_extension": ".r",
   "mimetype": "text/x-r-source",
   "name": "R",
   "pygments_lexer": "r",
   "version": "3.6.1"
  }
 },
 "nbformat": 4,
 "nbformat_minor": 2
}
