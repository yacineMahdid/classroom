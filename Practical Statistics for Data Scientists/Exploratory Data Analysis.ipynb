{
 "cells": [
  {
   "cell_type": "markdown",
   "metadata": {},
   "source": [
    "# Chapter 1: Exploratory Data Analysis\n",
    "\n",
    "## Elements of Structured Data\n",
    "- In this section they are simply stating the type of data we can stumble upon (continuous, discrete, categorical, binary and ordinal)\n",
    "\n",
    "## Rectangular Data\n",
    "- In this section they showcase what kind of data format is used in data science. It's mostly the Rectangular Data format (spreadsheet like).\n",
    "- data.frame doesn't support hierarchical indexing so you have to use external packages data.table and dplyr.\n",
    "- They also show other type of data format other than the rectangular one: Time series, Spatial and Network based (Graph).\n",
    "\n",
    "## Estimate of Location\n",
    "- In this section they showcase different way of getting a typical value for a dataset with the purpose of summarizing this dataset.\n",
    "- A list of these measure is given: Mean, Weighted Mean, Median, Weighted Median, Trimmed Mean\n",
    "- Here I'll use the formula to create the function to calculate these centrality measures"
   ]
  },
  {
   "cell_type": "code",
   "execution_count": 67,
   "metadata": {},
   "outputs": [
    {
     "name": "stdout",
     "output_type": "stream",
     "text": [
      "[1] \"Mean:  5  Should give 5\"\n",
      "[1] \"Weighted Mean:  6.73684210526316  Should give 6.73\"\n",
      "[1] \"Trimmed Mean:  5  Should give 5\"\n",
      "[1] \"Median:  5  Should give 5\"\n"
     ]
    }
   ],
   "source": [
    "# Test data\n",
    "values <- c(1,2,3,4,5,6,7,8,9)\n",
    "weights <- c(1,2,1,1,1,1,1,1,10)\n",
    "# Mean\n",
    "# Definition: sum of all values divided by the number of values\n",
    "my_mean <- function(values) {\n",
    "    sum <- 0\n",
    "    for (value in values){\n",
    "        sum <- sum + value\n",
    "    }\n",
    "    \n",
    "    return(sum/length(values))\n",
    "}\n",
    "\n",
    "# Weighted Mean\n",
    "# Definition: sum the multiplication of each element at x_i by a weight w_i and divide by the sum of the weights\n",
    "my_weighted_mean <- function(values, weights){\n",
    "    # here some error checking would be a good idea\n",
    "    # to make sure that the weights and values vector are of the same size\n",
    "    stopifnot(length(values) == length(weights))\n",
    "    \n",
    "    sum_value <- 0\n",
    "    for (i in 1:length(values)){\n",
    "        sum_value <- sum_value + values[i]*weights[i]\n",
    "    }\n",
    "    \n",
    "    sum_weight <- 0\n",
    "    for (weight in weights){\n",
    "        sum_weight <- sum_weight + weight\n",
    "    }\n",
    "    \n",
    "    return (sum_value/sum_weight)\n",
    "}\n",
    "\n",
    "# Median\n",
    "# Definition: is the middle number in a sorted list of data for odd length vector\n",
    "#             if the vector is even then its the average of the two middle number\n",
    "my_median <- function(values){\n",
    "    #Sorting\n",
    "    values <- sort(values)\n",
    "    if(length(values) %% 2 == 0){\n",
    "        mid_i_1 = (length(values)/2)\n",
    "        mid_i_2 = (length(values)/2) + 1\n",
    "        return ((values[mid_i_1] + values[mid_i_2])/2)\n",
    "    }\n",
    "    return (values[ceiling(length(values)/2)])\n",
    "}\n",
    "\n",
    "# Weighted Median\n",
    "\n",
    "# Trimmed Mean\n",
    "# Definition: sum of all values divided by the number of values after \n",
    "#             dropping the top and bottom trim_amount values.\n",
    "my_trimmed_mean <- function(values, trim_amount=0.3){\n",
    "    # Calculating the number of values to reject at each end\n",
    "    num_rejected <- floor(trim_amount*length(values))\n",
    "    \n",
    "    # Trimming the values and calculating the mean of the remainder\n",
    "    start <- 1+num_rejected\n",
    "    end <- length(values) - num_rejected\n",
    "    return (my_mean(values[start:end])) \n",
    "}\n",
    "\n",
    "# Testing\n",
    "print(paste(\"Mean: \" ,toString(my_mean(values)), \" Should give 5\"))\n",
    "print(paste(\"Weighted Mean: \" ,toString(my_weighted_mean(values, weights)), \" Should give 6.73\"))\n",
    "print(paste(\"Trimmed Mean: \" ,toString(my_trimmed_mean(values, 0.5)), \" Should give 5\"))\n",
    "print(paste(\"Median: \" ,toString(my_median(values)), \" Should give 5\"))"
   ]
  },
  {
   "cell_type": "markdown",
   "metadata": {},
   "source": [
    " "
   ]
  }
 ],
 "metadata": {
  "kernelspec": {
   "display_name": "R",
   "language": "R",
   "name": "ir"
  },
  "language_info": {
   "codemirror_mode": "r",
   "file_extension": ".r",
   "mimetype": "text/x-r-source",
   "name": "R",
   "pygments_lexer": "r",
   "version": "3.6.1"
  }
 },
 "nbformat": 4,
 "nbformat_minor": 2
}
