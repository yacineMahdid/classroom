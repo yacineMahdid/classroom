{
 "cells": [
  {
   "cell_type": "markdown",
   "metadata": {},
   "source": [
    "# Competition Overview\n",
    "This competition is part of the second section of the Kaggle course in machine learning.\n",
    "Competition can be found [here](https://www.kaggle.com/c/home-data-for-ml-course)\n",
    "\n",
    "- 79 explanatory variable of housing price in Iowa Ames.\n",
    "- Our goal is to predict the price using the features\n",
    "\n",
    "## Notebook Index\n",
    "1. Exploration Section"
   ]
  },
  {
   "cell_type": "markdown",
   "metadata": {},
   "source": [
    "## Exploratory Section\n",
    "In this section we will load the required files, import the library we need for the data analysis and the feature engineering. At the end of thi section we will produce a summary of what the data looks like and what are some good next strategies for the analysis."
   ]
  },
  {
   "cell_type": "code",
   "execution_count": 24,
   "metadata": {},
   "outputs": [
    {
     "data": {
      "text/plain": [
       "<matplotlib.axes._subplots.AxesSubplot at 0x1cf2ee5b390>"
      ]
     },
     "execution_count": 24,
     "metadata": {},
     "output_type": "execute_result"
    },
    {
     "data": {
      "image/png": "[encoded data removed]",
      "text/plain": [
       "<Figure size 432x288 with 1 Axes>"
      ]
     },
     "metadata": {
      "needs_background": "light"
     },
     "output_type": "display_data"
    }
   ],
   "source": [
    "import pandas as pd\n",
    "import numpy as np\n",
    "import matplotlib.pyplot as plt\n",
    "\n",
    "# Loading the provided files\n",
    "data_location  = \"C:/Users/biapt/Desktop/data/\"\n",
    "df_train = pd.read_csv(data_location + \"train.csv\")\n",
    "df_test = pd.read_csv(data_location + \"test.csv\")\n",
    "df_sample_submission = pd.read_csv(data_location + \"sample_submission.csv\")\n",
    "\n",
    "# Let's look at the descriptive statistics of all the features\n",
    "df_train.describe() #Lots of feature hard to know what is up with all of them\n",
    "\n",
    "# Let's read the data_description.txt to gain more information on each feature"
   ]
  },
  {
   "cell_type": "code",
   "execution_count": null,
   "metadata": {},
   "outputs": [],
   "source": [
    "# MSSubClass: Identifies the type of dwelling involved in the sale.\n",
    "\n",
    "# We see a lot of number however they don't mean that 20 is less than 80\n",
    "df_train['MSSubClass'] \n",
    "\n",
    "# We see here that some values are more probable than others\n",
    "df_train['MSSubClass'].hist(bins=10) \n",
    "\n",
    "# Conclusion for this feature is that there will be some work to do and some research \n",
    "# Worst case we can spawn some more feature with this using one hot encoding\n"
   ]
  },
  {
   "cell_type": "code",
   "execution_count": 30,
   "metadata": {},
   "outputs": [
    {
     "data": {
      "text/plain": [
       "RL         0.788356\n",
       "RM         0.149315\n",
       "FV         0.044521\n",
       "RH         0.010959\n",
       "C (all)    0.006849\n",
       "Name: MSZoning, dtype: float64"
      ]
     },
     "execution_count": 30,
     "metadata": {},
     "output_type": "execute_result"
    }
   ],
   "source": [
    "# MSZoning: Identifies the general zoning classification of the sale.\n",
    "\n",
    "# Another categorical values where we have class of the thing to be sold\n",
    "# We also have an estimate of the density when its residential\n",
    "df_train['MSZoning'].value_counts(normalize=True)\n",
    "\n",
    "# We don't have as much label as what was said in the data_description.txt\n",
    "# We have Residential label (of many kind) and commercial label\n",
    "# Here we could have a check to see if the unit is residential or commercial (boolean is_residential)\n",
    "# We can also have a ordinal integer label where the order will tell us about the residential density\n",
    "# if this information is not in some other label\n"
   ]
  },
  {
   "cell_type": "code",
   "execution_count": 70,
   "metadata": {},
   "outputs": [
    {
     "data": {
      "image/png": "[encoded data removed]",
      "text/plain": [
       "<Figure size 432x288 with 2 Axes>"
      ]
     },
     "metadata": {
      "needs_background": "light"
     },
     "output_type": "display_data"
    }
   ],
   "source": [
    "# LotFrontage : Linear feet of street connected to property\n",
    "# This is a numerical value however, we have some missing values\n",
    "\n",
    "df_train['LotFrontage'].isna().sum() / df_train['LotFrontage'].sum() \n",
    "# 0.3 percent of the data is nan at this spot so interpolation might be a good idea or just dropping the row\n",
    "# if we see that the ohter features are never nan\n",
    "\n",
    "# The histogram shows that the values a re a bit skewed\n",
    "# We will try to do a log transformation.\n",
    "# I've read the following paper [1] and its the gist of it was that if you are normalizing you need to double\n",
    "# check if your normalization is actually helping out, because it can make the distribution even more\n",
    "# skewed than before.\n",
    "\n",
    "# Double checking that the values are all positive\n",
    "df_train['LotFrontage'].describe()\n",
    "\n",
    "fig, axs = plt.subplots(2)\n",
    "fig.suptitle('Comparison of LotFrontage Before and After Log Normal Transformation')\n",
    "axs[0].hist(df_train['LotFrontage'][np.isfinite(df_train['LotFrontage']).values])\n",
    "\n",
    "# Log normal transformation and storing into a new column\n",
    "df_train['LotFrontageLogNormal'] = np.log(df_train['LotFrontage'])\n",
    "axs[1] = plt.hist(df_train['LotFrontageLogNormal'][np.isfinite(df_train['LotFrontageLogNormal']).values])\n",
    "# Note we still have some row that are nan and that should be taken care of otherwise the log transformation is complaining\n",
    "\n",
    "\n",
    "# TODO: Next step is to get some litterature on replacing nan values and follow the best practice\n",
    "# TODO: Calculate the amount of skewness in the distribution that we corrected find reference for this too\n",
    "\n",
    "# Reference:\n",
    "# 1.FENG, C. et al. Log-transformation and its implications for data analysis. Shanghai Arch Psychiatry 26, 105–109 (2014)."
   ]
  },
  {
   "cell_type": "code",
   "execution_count": null,
   "metadata": {},
   "outputs": [],
   "source": [
    "\n"
   ]
  }
 ],
 "metadata": {
  "kernelspec": {
   "display_name": "Python 3",
   "language": "python",
   "name": "python3"
  },
  "language_info": {
   "codemirror_mode": {
    "name": "ipython",
    "version": 3
   },
   "file_extension": ".py",
   "mimetype": "text/x-python",
   "name": "python",
   "nbconvert_exporter": "python",
   "pygments_lexer": "ipython3",
   "version": "3.7.3"
  }
 },
 "nbformat": 4,
 "nbformat_minor": 2
}
