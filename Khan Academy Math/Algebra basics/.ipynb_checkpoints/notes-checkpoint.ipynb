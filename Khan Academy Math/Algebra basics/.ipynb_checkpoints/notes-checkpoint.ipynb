{
 "cells": [
  {
   "cell_type": "markdown",
   "metadata": {},
   "source": [
    "# Foundations\n",
    "- Once again I'm doing only exercices until I find it difficult then I look at the videos.\n",
    "- The exponent section is actualy challenging when there is only fractions.\n",
    "- Just learned how to simplify square roots using prime factorization, feel smart.\n",
    "- Did the same with variables and its the same process\n",
    "- I've internalized the order of operation as I didn't even need to double check the video, this shows that taking the time to do a lot of exercise on a subject will pay off in the long term.\n",
    "- I'm looking at calculating the area of triangle, it's actually half of that of a parallelogram `area_triangle = base*height/2`\n",
    "- The area of a circle is given by `A=pi*r^2` where r is the radius\n",
    "- Also the circumference of a circle is `C=2pi*r`\n",
    "- We can relate both of them and have `A = (C^2) / (4*pi)\n",
    "- I decided to stop a section as soon as I hit the mastery level of 5 out of 6. Otherwise its just too time consuming for not much.\n",
    "\n",
    "# Algebraic Expression\n",
    "- The exercices are okay, not too bad not too hard\n",
    "- simplifying fraction of fraction was actually challenging, but I get it now!\n",
    "- The unit test was great too, I feel like I get to the point where it starts to be challenging\n",
    "\n",
    "# Linear Equation and Inequalities\n",
    "\n"
   ]
  },
  {
   "cell_type": "code",
   "execution_count": null,
   "metadata": {},
   "outputs": [],
   "source": []
  }
 ],
 "metadata": {
  "kernelspec": {
   "display_name": "Python 3",
   "language": "python",
   "name": "python3"
  },
  "language_info": {
   "codemirror_mode": {
    "name": "ipython",
    "version": 3
   },
   "file_extension": ".py",
   "mimetype": "text/x-python",
   "name": "python",
   "nbconvert_exporter": "python",
   "pygments_lexer": "ipython3",
   "version": "3.7.3"
  }
 },
 "nbformat": 4,
 "nbformat_minor": 2
}
