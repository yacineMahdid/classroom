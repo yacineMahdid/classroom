{
 "cells": [
  {
   "cell_type": "markdown",
   "metadata": {},
   "source": [
    "# Foundations\n",
    "- Once again I'm doing only exercices until I find it difficult then I look at the videos.\n",
    "- The exponent section is actualy challenging when there is only fractions.\n",
    "- Just learned how to simplify square roots using prime factorization, feel smart.\n",
    "- Did the same with variables and its the same process\n",
    "- I've internalized the order of operation as I didn't even need to double check the video, this shows that taking the time to do a lot of exercise on a subject will pay off in the long term."
   ]
  }
 ],
 "metadata": {
  "kernelspec": {
   "display_name": "Python 3",
   "language": "python",
   "name": "python3"
  },
  "language_info": {
   "codemirror_mode": {
    "name": "ipython",
    "version": 3
   },
   "file_extension": ".py",
   "mimetype": "text/x-python",
   "name": "python",
   "nbconvert_exporter": "python",
   "pygments_lexer": "ipython3",
   "version": "3.7.3"
  }
 },
 "nbformat": 4,
 "nbformat_minor": 2
}
