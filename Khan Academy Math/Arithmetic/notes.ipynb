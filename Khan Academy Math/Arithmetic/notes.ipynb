{
 "cells": [
  {
   "cell_type": "markdown",
   "metadata": {},
   "source": [
    "# Addition and subtraction\n",
    "- Fairly straightforward section, I already did some last year, but I got 2000/2000 by doing lots of exercices.\n",
    "- For next section I'll start the exercices and look at videos only if I can't do the exercices\n",
    "\n",
    "# Mutltiplication and division\n",
    "- There is a lot of exerice in this unit, however they are not too bad. There is like 4100 points to get which is the double of what was in the previous section.\n",
    "- I reviewed the exercices again and it wasn't too bad. However, I should necessarly aim to get the max number of points for a given section since it is very time consuming. I should instead aim to do some amount of review in the early material, then jump to exactly the material I want to learn (namely the Linear Algebra and Calculus part).\n"
   ]
  },
  {
   "cell_type": "code",
   "execution_count": null,
   "metadata": {},
   "outputs": [],
   "source": []
  }
 ],
 "metadata": {
  "kernelspec": {
   "display_name": "Python 3",
   "language": "python",
   "name": "python3"
  },
  "language_info": {
   "codemirror_mode": {
    "name": "ipython",
    "version": 3
   },
   "file_extension": ".py",
   "mimetype": "text/x-python",
   "name": "python",
   "nbconvert_exporter": "python",
   "pygments_lexer": "ipython3",
   "version": "3.7.3"
  }
 },
 "nbformat": 4,
 "nbformat_minor": 2
}