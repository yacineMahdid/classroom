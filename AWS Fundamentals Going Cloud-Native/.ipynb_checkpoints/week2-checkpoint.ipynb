{
 "cells": [
  {
   "cell_type": "markdown",
   "metadata": {},
   "source": [
    "# Networking and Storage\n",
    "- VPC stands for Virtual Private Network and is an abstract box with which we can put our application and where we can decide what goes in and what comes out.\n",
    "- IGW means Internet Gateway\n",
    "- Adding name and tags to the stuff you create in AWS really help reading the components. Otherwise it's an unreadable mess.\n",
    "- We can configure all of the networking setup manually for small project, however for larger project doing it programmatically is way better.\n",
    "- Networking on AWS is a bit byzantine if you don't know too much about Networking. Might be a good idea to invest some of my time to that in the future.\n",
    "- Never connect a database to the IGW otherwise everyone will have access to it, create another subnet that connect to the IGW connected subnet.\n",
    "- You create a subnet that is private and then you can launch a database in there.\n",
    "- You usually want to run in more than one availability zone to make sure that you have the least amount of outage. The idea is that you create duplicate subnet within the same VPC that are attached to **another** availability region. The CIDR block should be different too. If we do this we also need to assign them our route table.\n",
    "- It seems that we need to architecture the thing way before we actually end up doing the thing. I think having a physical poster/document/blueprint of our cloud architecture will help a lot people understand what is hapenning and what need to be done.\n",
    "- VPC is already a multi-availability zone abstract structure. The subnets aren't though\n",
    "- The EC2 instance in another subnet need to be duplicated, however the RDS database need to be changed to a Multi-AZ RDS database.\n",
    "- Classless Inter-Domain Routing (CIDR) are for assigning ip address."
   ]
  },
  {
   "cell_type": "markdown",
   "metadata": {},
   "source": [
    "# Future Learning\n",
    "- Learn about Networking (Google offer some courses of networking, that might be a good idea to pick up)"
   ]
  },
  {
   "cell_type": "code",
   "execution_count": null,
   "metadata": {},
   "outputs": [],
   "source": []
  }
 ],
 "metadata": {
  "kernelspec": {
   "display_name": "Python 3",
   "language": "python",
   "name": "python3"
  },
  "language_info": {
   "codemirror_mode": {
    "name": "ipython",
    "version": 3
   },
   "file_extension": ".py",
   "mimetype": "text/x-python",
   "name": "python",
   "nbconvert_exporter": "python",
   "pygments_lexer": "ipython3",
   "version": "3.7.3"
  }
 },
 "nbformat": 4,
 "nbformat_minor": 2
}
