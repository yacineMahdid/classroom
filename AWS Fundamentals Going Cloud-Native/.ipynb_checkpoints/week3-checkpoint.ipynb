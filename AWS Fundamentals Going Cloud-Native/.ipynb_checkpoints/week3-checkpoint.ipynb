{
 "cells": [
  {
   "cell_type": "markdown",
   "metadata": {},
   "source": [
    "# Introduction to Storage on AWS\n",
    "- Relation database is AWS RDS\n",
    "- S3 is great for image, video, text files (object level storage)\n",
    "- RDS has block level storage, the above are not fit for that.\n",
    "\n",
    "## Elastic Block Storage (EBS)\n",
    "- Boot and data volume attached to EC2 instances are independent of it\n",
    "- If you stop an EC2 instance the EBS survives\n",
    "- You can even swap EC2 instance EBS storage (it's more like an external HD)\n",
    "\n",
    "## Simple Storage System (S3)\n",
    "- S3 buckets are accessible over HTTP and HTTPS\n",
    "- Limit of 5 TB for uploaded object, however no limits for the amount of data in the buckets\n",
    "- Like EC2 instance we can decide where the bucket will be hosted for optimized latency\n",
    "- I need to go to permission to set a bucket to public\n",
    "- **If want to share object by making them public I have to do it at the individual object level**\n",
    "\n",
    "## Elastic File System\n",
    "- EBS lives inside one subnet, but not EFS\n",
    "- If many EC2 instance need to access the same storage file system EFS is the way to go\n",
    "\n",
    "# Databases\n",
    "- Two main type of databases Relational and NoSQL\n",
    "\n",
    "## Relational Database Service\n",
    "- This is a SQL type of database that is managed by AWS\n",
    "- We can put our database in a EC2 instance and have a lot taken care of by AWS\n",
    "- RDS manage a lot of the thing for us excepted the app optimization part which has to be taken care by us (and which make sense).\n"
   ]
  },
  {
   "cell_type": "code",
   "execution_count": null,
   "metadata": {},
   "outputs": [],
   "source": []
  }
 ],
 "metadata": {
  "kernelspec": {
   "display_name": "Python 3",
   "language": "python",
   "name": "python3"
  },
  "language_info": {
   "codemirror_mode": {
    "name": "ipython",
    "version": 3
   },
   "file_extension": ".py",
   "mimetype": "text/x-python",
   "name": "python",
   "nbconvert_exporter": "python",
   "pygments_lexer": "ipython3",
   "version": "3.7.3"
  }
 },
 "nbformat": 4,
 "nbformat_minor": 2
}
