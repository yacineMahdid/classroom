{
 "cells": [
  {
   "cell_type": "markdown",
   "metadata": {},
   "source": [
    "# Notes\n",
    "\n",
    "We'll build an app througout this class, seems very hands-on!\n",
    "- Cloud is an on-demand service, pay as you use\n",
    "- Why is cloud? We don't need a IT department for maintaining servers.\n",
    "- Selecting a region is important (there is a region in montreal!)\n",
    "- Need to check that the services are the one we need in Montreal, but making the switch would be strategic\n",
    "- A region has availability zones that make sure your app is robust to outages\n",
    "- G instances is good for visual instance like 3D cad viewing\n",
    "- AMI = Amazon Machine Image\n",
    "\n",
    "## EC2\n",
    "- This is usuall what you spin up as a server to make sure that your app is online.\n",
    "- Will dig deeper into this since they didn't spend that much time on that (the tutorial with Morgan was like super high level).\n",
    "\n",
    "# TODO\n",
    " - [X] Read [documentation](https://docs.aws.amazon.com/AWSEC2/latest/UserGuide/EC2_GetStarted.html) on EC2\n",
    " - [X] Find tutorial on EC2"
   ]
  },
  {
   "cell_type": "markdown",
   "metadata": {},
   "source": [
    "# Homework\n",
    "## Documentation\n",
    "- Good idea to not have the root user do all the stuff, but its better to have a IAM user being an administrator that will do the stuff.\n",
    "- Need to generate a key-pair for your regions for EC2\n",
    "- Security Group act as a firewall for your instances.\n",
    "- use putty with a secret file .pkg to ssh into the ec2 instance"
   ]
  },
  {
   "cell_type": "code",
   "execution_count": null,
   "metadata": {},
   "outputs": [],
   "source": []
  }
 ],
 "metadata": {
  "kernelspec": {
   "display_name": "Python 3",
   "language": "python",
   "name": "python3"
  },
  "language_info": {
   "codemirror_mode": {
    "name": "ipython",
    "version": 3
   },
   "file_extension": ".py",
   "mimetype": "text/x-python",
   "name": "python",
   "nbconvert_exporter": "python",
   "pygments_lexer": "ipython3",
   "version": "3.7.3"
  }
 },
 "nbformat": 4,
 "nbformat_minor": 2
}
