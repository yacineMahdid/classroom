{
 "cells": [
  {
   "cell_type": "markdown",
   "metadata": {},
   "source": [
    "# Networking and Storage\n",
    "- VPC stands for Virtual Private Network and is an abstract box with which we can put our application and where we can decide what goes in and what comes out.\n",
    "- IGW means Internet Gateway\n",
    "- Adding name and tags to the stuff you create in AWS really help reading the components. Otherwise it's an unreadable mess.\n",
    "- We can configure all of the networking setup manually for small project, however for larger project doing it programmatically is way better.\n",
    "- Networking on AWS is a bit byzantine if you don't know too much about Networking. Might be a good idea to invest some of my time to that in the future."
   ]
  },
  {
   "cell_type": "markdown",
   "metadata": {},
   "source": [
    "# Future Learning\n",
    "- Learn about Networking (Google offer some courses of networking, that might be a good idea to pick up)"
   ]
  },
  {
   "cell_type": "code",
   "execution_count": null,
   "metadata": {},
   "outputs": [],
   "source": []
  }
 ],
 "metadata": {
  "kernelspec": {
   "display_name": "Python 3",
   "language": "python",
   "name": "python3"
  },
  "language_info": {
   "codemirror_mode": {
    "name": "ipython",
    "version": 3
   },
   "file_extension": ".py",
   "mimetype": "text/x-python",
   "name": "python",
   "nbconvert_exporter": "python",
   "pygments_lexer": "ipython3",
   "version": "3.7.3"
  }
 },
 "nbformat": 4,
 "nbformat_minor": 2
}
