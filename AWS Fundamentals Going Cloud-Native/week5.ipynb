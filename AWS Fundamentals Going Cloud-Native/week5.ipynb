{
 "cells": [
  {
   "cell_type": "markdown",
   "metadata": {},
   "source": [
    "# Security and Cost Management\n",
    "- AWS take care of physical security of the server, of their network and of their hypervisor. They can give us information under NDA\n",
    "- Guest OS is 100% on us though\n",
    "- Cost in AWS is variable not fixed (for most application)\n",
    "- There exist cost management services to explore or give alert when we get outside the budget\n",
    "- Trusted Advisor is also to check where optimization can be made, it can gives you recommended action and say how much money you can save up\n",
    "\n",
    "# Wrap up\n",
    "- the course was just an introduction, it was great to get exposure to the essential.\n",
    "- There are more course in the training portal of aws https://aws.amazon.com/training/"
   ]
  },
  {
   "cell_type": "code",
   "execution_count": null,
   "metadata": {},
   "outputs": [],
   "source": []
  }
 ],
 "metadata": {
  "kernelspec": {
   "display_name": "Python 3",
   "language": "python",
   "name": "python3"
  },
  "language_info": {
   "codemirror_mode": {
    "name": "ipython",
    "version": 3
   },
   "file_extension": ".py",
   "mimetype": "text/x-python",
   "name": "python",
   "nbconvert_exporter": "python",
   "pygments_lexer": "ipython3",
   "version": "3.7.3"
  }
 },
 "nbformat": 4,
 "nbformat_minor": 2
}
