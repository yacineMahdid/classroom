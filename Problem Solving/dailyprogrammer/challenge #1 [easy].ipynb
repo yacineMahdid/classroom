{
 "cells": [
  {
   "cell_type": "markdown",
   "metadata": {},
   "source": [
    "# Challenge 1 [Easy]\n",
    "[Challenge Link](https://www.reddit.com/r/dailyprogrammer/comments/pih8x/easy_challenge_1/)\n",
    "\n",
    "create a program that will ask the users name, age, and reddit username. have it tell them the information back, in the format:\n",
    "\n",
    "`your name is (blank), you are (blank) years old, and your username is (blank)`\n",
    "\n",
    "for extra credit, have the program log this information in a file to be accessed later."
   ]
  },
  {
   "cell_type": "code",
   "execution_count": 5,
   "metadata": {},
   "outputs": [
    {
     "name": "stdout",
     "output_type": "stream",
     "text": [
      "Please enter your name: yacine\n",
      "Please enter your age: 12\n",
      "Please enter your reddit username: lol\n",
      "your name is yacine, you are 12 years old, and your username is lol\n"
     ]
    }
   ],
   "source": [
    "# Variable Initialization\n",
    "filename = \"data.txt\"\n",
    "\n",
    "# Get the inputs\n",
    "name = input(\"Please enter your name: \")\n",
    "age = input(\"Please enter your age: \")\n",
    "username = input(\"Please enter your reddit username: \")\n",
    "\n",
    "# Log them to the console\n",
    "print(f\"your name is {name}, you are {age} years old, and your username is {username}\")"
   ]
  },
  {
   "cell_type": "code",
   "execution_count": 9,
   "metadata": {},
   "outputs": [],
   "source": [
    "# have the program log this information in a file to be accessed later.\n",
    "with open(filename, \"w\") as f:\n",
    "    f.write(\"name: \" + name + \"\\n\") \n",
    "    f.write(\"age: \" + age + \"\\n\")\n",
    "    f.write(\"username: \" + username + \"\\n\")"
   ]
  }
 ],
 "metadata": {
  "kernelspec": {
   "display_name": "Python 3",
   "language": "python",
   "name": "python3"
  },
  "language_info": {
   "codemirror_mode": {
    "name": "ipython",
    "version": 3
   },
   "file_extension": ".py",
   "mimetype": "text/x-python",
   "name": "python",
   "nbconvert_exporter": "python",
   "pygments_lexer": "ipython3",
   "version": "3.7.4"
  }
 },
 "nbformat": 4,
 "nbformat_minor": 2
}
