{
 "cells": [
  {
   "cell_type": "markdown",
   "metadata": {},
   "source": [
    "# [difficult] challenge 2\n",
    "\n",
    "[Challenge Link](https://www.reddit.com/r/dailyprogrammer/comments/pjsdx/difficult_challenge_2/)\n",
    "\n",
    "Your mission is to create a stopwatch program. this program should have start, stop, and lap options, and it should write out to a file to be viewed later."
   ]
  },
  {
   "cell_type": "code",
   "execution_count": 6,
   "metadata": {},
   "outputs": [
    {
     "name": "stdout",
     "output_type": "stream",
     "text": [
      "Start, Stop or Lap? start\n",
      "Start, Stop or Lap? lap\n",
      "Start, Stop or Lap? lap\n",
      "Start, Stop or Lap? lap\n",
      "Start, Stop or Lap? stop\n",
      "Start, Stop or Lap? start\n",
      "Start, Stop or Lap? lap\n",
      "Start, Stop or Lap? lap\n",
      "Start, Stop or Lap? lap\n",
      "Start, Stop or Lap? lap\n",
      "Start, Stop or Lap? lap\n",
      "Start, Stop or Lap? stop\n",
      "Start, Stop or Lap? exit\n"
     ]
    }
   ],
   "source": [
    "from time import time\n",
    "\n",
    "# Assumption\n",
    "# we assume that the user will follow the order:\n",
    "# start -> (arbitrary amount of lap) -> stop\n",
    "\n",
    "# Variable Initialization\n",
    "filename = \"stop_watch.txt\"\n",
    "start = None\n",
    "stop = None\n",
    "lap = None\n",
    "\n",
    "with open(filename, \"w\") as f:\n",
    "    f.write(\"Start of the stop watch!\\n\")\n",
    "\n",
    "command = \"\"\n",
    "while(command != \"exit\"):\n",
    "    command = input(\"Start, Stop or Lap? \").lower()\n",
    "    \n",
    "    if command == \"start\":\n",
    "        start = time()\n",
    "        with open(filename, \"a+\") as f:\n",
    "            f.write(f\"New stopwatch created at {start}\\n\")\n",
    "    elif command == \"stop\":\n",
    "        stop = time()\n",
    "        time_elapsed = stop - start\n",
    "        with open(filename, \"a+\") as f:\n",
    "            f.write(f\"Stoped at {stop}: Time elapsed: {time_elapsed}\\n\")\n",
    "    elif command == \"lap\":\n",
    "        lap = time()\n",
    "        time_elapsed = lap - start\n",
    "        with open(filename, \"a+\") as f:\n",
    "            f.write(f\"Lap at {lap}: Time elapsed: {time_elapsed}\\n\")"
   ]
  }
 ],
 "metadata": {
  "kernelspec": {
   "display_name": "Python 3",
   "language": "python",
   "name": "python3"
  },
  "language_info": {
   "codemirror_mode": {
    "name": "ipython",
    "version": 3
   },
   "file_extension": ".py",
   "mimetype": "text/x-python",
   "name": "python",
   "nbconvert_exporter": "python",
   "pygments_lexer": "ipython3",
   "version": "3.7.4"
  }
 },
 "nbformat": 4,
 "nbformat_minor": 2
}
