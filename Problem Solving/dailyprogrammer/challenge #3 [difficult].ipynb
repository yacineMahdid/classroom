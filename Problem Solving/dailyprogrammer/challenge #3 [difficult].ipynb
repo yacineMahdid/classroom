{
 "cells": [
  {
   "cell_type": "markdown",
   "metadata": {},
   "source": [
    "# challenge 3 [difficult]\n",
    "[Challenge Link](https://www.reddit.com/r/dailyprogrammer/comments/pkwgf/2112012_challenge_3_difficult/)\n",
    "\n",
    "Welcome to cipher day!\n",
    "\n",
    "For this challenge, you need to write a program that will take the scrambled words from this post, and compare them against THIS WORD LIST to unscramble them. For bonus points, sort the words by length when you are finished. Post your programs and/or subroutines!\n",
    "\n",
    "Here are your words to de-scramble:\n",
    "```\n",
    "mkeart\n",
    "\n",
    "sleewa\n",
    "\n",
    "edcudls\n",
    "\n",
    "iragoge\n",
    "\n",
    "usrlsle\n",
    "\n",
    "nalraoci\n",
    "\n",
    "nsdeuto\n",
    "\n",
    "amrhat\n",
    "\n",
    "inknsy\n",
    "\n",
    "iferkna\n",
    "```\n",
    "\n",
    "The words to descramble are taken from here: https://pastebin.com/jSD873gL"
   ]
  },
  {
   "cell_type": "code",
   "execution_count": null,
   "metadata": {},
   "outputs": [],
   "source": [
    "# Note\n",
    "# From what I understood from this is that we need to take each of these words \n",
    "# and unscramble them (as they have been previously scrambled)\n",
    "# It says it's the cypher week: It can either means that the words were cyphered\n",
    "# or that the letter are just scrambled without having a cypher.\n",
    "# From the wording I'm pretty sure we are talking about the second case here\n",
    "# We need to output the unscrambled word that map directly to one word in the webpage\n",
    "\n",
    "# Plan\n",
    "# We just need to count the frequency of occurence of the letters and find a word that has\n",
    "# exactly the same frequency\n",
    "# TO BE CONTINUED!"
   ]
  }
 ],
 "metadata": {
  "kernelspec": {
   "display_name": "Python 3",
   "language": "python",
   "name": "python3"
  },
  "language_info": {
   "codemirror_mode": {
    "name": "ipython",
    "version": 3
   },
   "file_extension": ".py",
   "mimetype": "text/x-python",
   "name": "python",
   "nbconvert_exporter": "python",
   "pygments_lexer": "ipython3",
   "version": "3.7.4"
  }
 },
 "nbformat": 4,
 "nbformat_minor": 2
}
