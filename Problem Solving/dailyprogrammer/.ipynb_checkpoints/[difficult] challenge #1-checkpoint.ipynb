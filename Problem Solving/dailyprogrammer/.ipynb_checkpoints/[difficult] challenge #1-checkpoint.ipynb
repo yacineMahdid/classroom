{
 "cells": [
  {
   "cell_type": "markdown",
   "metadata": {},
   "source": [
    "# [Difficult] Challenge 1\n",
    "[Challenge Link](https://www.reddit.com/r/dailyprogrammer/comments/pii6j/difficult_challenge_1/)\n",
    "\n",
    "we all know the classic \"guessing game\" with higher or lower prompts. lets do a role reversal; you create a program that will guess numbers between 1-100, and respond appropriately based on whether users say that the number is too high or too low. Try to make a program that can guess your number based on user input and great code!"
   ]
  },
  {
   "cell_type": "code",
   "execution_count": 6,
   "metadata": {},
   "outputs": [
    {
     "name": "stdout",
     "output_type": "stream",
     "text": [
      "Please think about a number between 1 and 100.\n",
      "Is your number: HIGHER, LOWER or EQUAL than 50? lower\n",
      "Is your number: HIGHER, LOWER or EQUAL than 25? higher\n",
      "Is your number: HIGHER, LOWER or EQUAL than 37? higher\n",
      "Is your number: HIGHER, LOWER or EQUAL than 43? higher\n",
      "Is your number: HIGHER, LOWER or EQUAL than 46? lower\n",
      "Is your number: HIGHER, LOWER or EQUAL than 44? equal\n",
      "YES!\n"
     ]
    }
   ],
   "source": [
    "# Variable Initialization\n",
    "low = 1\n",
    "high = 100\n",
    "\n",
    "print(\"Please think about a number between 1 and 100.\")\n",
    "while low < high:\n",
    "    middle = (high + low) // 2\n",
    "    answer = input(f\"Is your number: HIGHER, LOWER or EQUAL than {middle}? \").lower()\n",
    "    \n",
    "    if answer == \"higher\":\n",
    "        low = middle\n",
    "    elif answer == \"lower\":\n",
    "        high = middle\n",
    "    elif answer == \"equal\":\n",
    "        print(\"YES!\")\n",
    "        break\n",
    "\n",
    "# If we get to that point it means that the user tricked us!\n",
    "if low >= high:\n",
    "    print(\"IMPOSSIBLE!\")"
   ]
  },
  {
   "cell_type": "markdown",
   "metadata": {},
   "source": [
    "We will test the following numbers:\n",
    "- [X] 12 \n",
    "- [X] 99\n",
    "- [X] 44"
   ]
  }
 ],
 "metadata": {
  "kernelspec": {
   "display_name": "Python 3",
   "language": "python",
   "name": "python3"
  },
  "language_info": {
   "codemirror_mode": {
    "name": "ipython",
    "version": 3
   },
   "file_extension": ".py",
   "mimetype": "text/x-python",
   "name": "python",
   "nbconvert_exporter": "python",
   "pygments_lexer": "ipython3",
   "version": "3.7.4"
  }
 },
 "nbformat": 4,
 "nbformat_minor": 2
}
