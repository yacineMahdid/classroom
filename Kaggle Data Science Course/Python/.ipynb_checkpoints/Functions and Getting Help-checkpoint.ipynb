{
 "cells": [
  {
   "cell_type": "markdown",
   "metadata": {},
   "source": [
    "# Course Content\n",
    "- help can be used in python to check out the usage of a function\n",
    "- explain about docstring which is a cool thing to add to document your code properly\n",
    "- can supply function as argument to other function (functional programming stuff) : Higher Order Functions\n",
    "- the max function can take another function to minimize\n"
   ]
  },
  {
   "cell_type": "code",
   "execution_count": 1,
   "metadata": {},
   "outputs": [],
   "source": [
    "# Exercices 1\n",
    "def round_to_two_places(num):\n",
    "    \"\"\"Return the given number rounded to two decimal places. \n",
    "    \n",
    "    >>> round_to_two_places(3.14159)\n",
    "    3.14\n",
    "    \"\"\"\n",
    "    # here we are multiplying by 100 then integer dividing by 1 (remove the decimal) then float dividing by 100\n",
    "    return ((num*100) // 1) / 100\n",
    "\n",
    "# Some functions like round have extra parameters, might be a good idea to check them all out when using some\n",
    "# Kaggle kernel are buggy as hell though\n",
    "# Not too bad though as there was exercices about higher order functions"
   ]
  },
  {
   "cell_type": "code",
   "execution_count": null,
   "metadata": {},
   "outputs": [],
   "source": []
  }
 ],
 "metadata": {
  "kernelspec": {
   "display_name": "Python 3",
   "language": "python",
   "name": "python3"
  },
  "language_info": {
   "codemirror_mode": {
    "name": "ipython",
    "version": 3
   },
   "file_extension": ".py",
   "mimetype": "text/x-python",
   "name": "python",
   "nbconvert_exporter": "python",
   "pygments_lexer": "ipython3",
   "version": "3.7.3"
  }
 },
 "nbformat": 4,
 "nbformat_minor": 2
}
