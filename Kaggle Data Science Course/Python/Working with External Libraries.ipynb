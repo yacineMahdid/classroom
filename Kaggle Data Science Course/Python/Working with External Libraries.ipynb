{
 "cells": [
  {
   "cell_type": "markdown",
   "metadata": {},
   "source": [
    "# Course Content\n",
    "- when dealing with unknown library we can use help to check out what a particular function is doing however, if we have and IDE it will automatically read the docstring for us.\n",
    "- We can also call help on the whole module we are importing\n",
    "- star import `import *` can lead to namespace clashes\n",
    "- object within module can do operator overloading like in C++\n",
    "- method with two underscore: _ _ method name _ _ , holds a special meaning in python"
   ]
  },
  {
   "cell_type": "code",
   "execution_count": 1,
   "metadata": {},
   "outputs": [],
   "source": [
    "# Exercices\n",
    "# in matplotlib we can get the ticks and then format them as we need before setting them back into the plot (learned that from exercices 1)"
   ]
  },
  {
   "cell_type": "code",
   "execution_count": 2,
   "metadata": {},
   "outputs": [],
   "source": [
    "# An exercices they say is difficult (2x spice)"
   ]
  },
  {
   "cell_type": "markdown",
   "metadata": {},
   "source": [
    "## 2. <span title=\"Spicy\" style=\"color: coral\">🌶️🌶️</span>\n",
    "\n",
    "This is a very hard problem. Feel free to skip it if you are short on time:\n",
    "\n",
    "Luigi is trying to perform an analysis to determine the best items for winning races on the Mario Kart circuit. He has some data in the form of lists of dictionaries that look like...\n",
    "\n",
    "    [\n",
    "        {'name': 'Peach', 'items': ['green shell', 'banana', 'green shell',], 'finish': 3},\n",
    "        {'name': 'Bowser', 'items': ['green shell',], 'finish': 1},\n",
    "        # Sometimes the racer's name wasn't recorded\n",
    "        {'name': None, 'items': ['mushroom',], 'finish': 2},\n",
    "        {'name': 'Toad', 'items': ['green shell', 'mushroom'], 'finish': 1},\n",
    "    ]\n",
    "\n",
    "`'items'` is a list of all the power-up items the racer picked up in that race, and `'finish'` was their placement in the race (1 for first place, 3 for third, etc.).\n",
    "\n",
    "He wrote the function below to take a list like this and return a dictionary mapping each item to how many times it was picked up by first-place finishers."
   ]
  },
  {
   "cell_type": "code",
   "execution_count": 6,
   "metadata": {},
   "outputs": [],
   "source": [
    "# Fix me!\n",
    "full_dataset = []\n",
    "def best_items(racers):\n",
    "    winner_item_counts = {}\n",
    "    for i in range(len(racers)):\n",
    "        # The i'th racer dictionary\n",
    "        racer = racers[i]\n",
    "        # We're only interested in racers who finished in first\n",
    "        if racer['finish'] == 1:\n",
    "            # PROBLEM IS HERE! i becomes a string\n",
    "            for item in racer['items']:\n",
    "                # Add one to the count for this item (adding it to the dict if necessary)\n",
    "                if item not in winner_item_counts:\n",
    "                    winner_item_counts[item] = 0\n",
    "                winner_item_counts[item] += 1\n",
    "\n",
    "        # Data quality issues :/ Print a warning about racers with no name set. We'll take care of it later.\n",
    "        if racer['name'] is None:\n",
    "            print(\"WARNING: Encountered racer with unknown name on iteration {}/{} (racer = {})\".format(i+1, len(racers), racer['name']))\n",
    "    return winner_item_counts\n",
    "\n",
    "# The problem was simple there was a redefinition of i which made it not a int anymore\n",
    "# When we tried to do i + 1 on a string it was throwing a typerror\n",
    "# I found that by breaking down the print(\"WARNING...\") line into multiple block so that the interpreter\n",
    "# could pinpoint me easily to which element in the format was problematic."
   ]
  },
  {
   "cell_type": "code",
   "execution_count": null,
   "metadata": {},
   "outputs": [],
   "source": [
    "# this last module was kinda challenging it was great."
   ]
  }
 ],
 "metadata": {
  "kernelspec": {
   "display_name": "Python 3",
   "language": "python",
   "name": "python3"
  },
  "language_info": {
   "codemirror_mode": {
    "name": "ipython",
    "version": 3
   },
   "file_extension": ".py",
   "mimetype": "text/x-python",
   "name": "python",
   "nbconvert_exporter": "python",
   "pygments_lexer": "ipython3",
   "version": "3.7.3"
  }
 },
 "nbformat": 4,
 "nbformat_minor": 2
}
