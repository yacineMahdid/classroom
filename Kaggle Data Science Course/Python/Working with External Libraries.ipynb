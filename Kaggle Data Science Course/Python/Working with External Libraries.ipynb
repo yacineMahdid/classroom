{
 "cells": [
  {
   "cell_type": "markdown",
   "metadata": {},
   "source": [
    "# Course Content\n",
    "- when dealing with unknown library we can use help to check out what a particular function is doing however, if we have and IDE it will automatically read the docstring for us.\n",
    "- We can also call help on the whole module we are importing\n",
    "- star import `import *` can lead to namespace clashes\n",
    "- object within module can do operator overloading like in C++\n",
    "- method with two underscore: _ _ method name _ _ , holds a special meaning in python"
   ]
  },
  {
   "cell_type": "code",
   "execution_count": 1,
   "metadata": {},
   "outputs": [],
   "source": [
    "# Exercices\n",
    "# in matplotlib we can get the ticks and then format them as we need before setting them back into the plot (learned that from exercices 1)"
   ]
  },
  {
   "cell_type": "code",
   "execution_count": null,
   "metadata": {},
   "outputs": [],
   "source": []
  }
 ],
 "metadata": {
  "kernelspec": {
   "display_name": "Python 3",
   "language": "python",
   "name": "python3"
  },
  "language_info": {
   "codemirror_mode": {
    "name": "ipython",
    "version": 3
   },
   "file_extension": ".py",
   "mimetype": "text/x-python",
   "name": "python",
   "nbconvert_exporter": "python",
   "pygments_lexer": "ipython3",
   "version": "3.7.3"
  }
 },
 "nbformat": 4,
 "nbformat_minor": 2
}
