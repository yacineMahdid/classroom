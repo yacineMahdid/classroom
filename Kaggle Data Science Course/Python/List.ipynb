{
 "cells": [
  {
   "cell_type": "markdown",
   "metadata": {},
   "source": [
    "# Course Content\n",
    "- Putting stuff in multiple lines helps a lot with readability (like 2d matrices\n",
    "- List can contains different things as everything is an object in python\n",
    "- Typing help(name_of_list) we get all the functions on the list\n",
    "- Tuple are immutable while lists are mutable"
   ]
  },
  {
   "cell_type": "code",
   "execution_count": 2,
   "metadata": {},
   "outputs": [],
   "source": [
    "# Exercices\n",
    "# Super easy exercices, the trickiest one was this one, but even then it was trivial\n",
    "def fashionably_late(arrivals, name):\n",
    "    \"\"\"Given an ordered list of arrivals to the party and a name, return whether the guest with that\n",
    "    name was fashionably late.\n",
    "    \"\"\"\n",
    "    position = arrivals.index(name)\n",
    "    limit = len(arrivals) / 2\n",
    "    return (True if (limit <= position and position != len(arrivals)-1) else False)\n"
   ]
  },
  {
   "cell_type": "code",
   "execution_count": null,
   "metadata": {},
   "outputs": [],
   "source": []
  }
 ],
 "metadata": {
  "kernelspec": {
   "display_name": "Python 3",
   "language": "python",
   "name": "python3"
  },
  "language_info": {
   "codemirror_mode": {
    "name": "ipython",
    "version": 3
   },
   "file_extension": ".py",
   "mimetype": "text/x-python",
   "name": "python",
   "nbconvert_exporter": "python",
   "pygments_lexer": "ipython3",
   "version": "3.7.3"
  }
 },
 "nbformat": 4,
 "nbformat_minor": 2
}
