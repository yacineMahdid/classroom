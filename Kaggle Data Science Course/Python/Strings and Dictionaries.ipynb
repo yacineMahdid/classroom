{
 "cells": [
  {
   "cell_type": "markdown",
   "metadata": {},
   "source": [
    "# Course Content\n",
    "- String are defined as a sequence of characters (like a list but immutable)\n",
    "- str.format() is useful intead of doing string concatenation everytime\n",
    "- dictionary comprehension is a thing `planet_to_initial = {planet: planet[0] for planet in planets}`\n",
    "- dict.items() return a tuple of key and value pair\n"
   ]
  },
  {
   "cell_type": "code",
   "execution_count": 1,
   "metadata": {},
   "outputs": [],
   "source": [
    "# Exercices\n",
    "# they were kinda nice and a bit more challenging as they were about basic string manipulation."
   ]
  }
 ],
 "metadata": {
  "kernelspec": {
   "display_name": "Python 3",
   "language": "python",
   "name": "python3"
  },
  "language_info": {
   "codemirror_mode": {
    "name": "ipython",
    "version": 3
   },
   "file_extension": ".py",
   "mimetype": "text/x-python",
   "name": "python",
   "nbconvert_exporter": "python",
   "pygments_lexer": "ipython3",
   "version": "3.7.3"
  }
 },
 "nbformat": 4,
 "nbformat_minor": 2
}
