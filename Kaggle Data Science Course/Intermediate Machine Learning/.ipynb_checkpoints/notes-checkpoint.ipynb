{
 "cells": [
  {
   "cell_type": "markdown",
   "metadata": {},
   "source": [
    "# Intermediate Machine Learning\n",
    "Here are my notes for the whole section of the class.\n",
    "\n",
    "# Introduction\n",
    "- Nothing is really said here except explaning what the course is about\n",
    "- Mainly about getting set up with the platform for the exercises\n",
    "- the exercises walked us through trying different models of random forest\n",
    "- We scored the models one by one using mean absolute error (L1) (low error == good)\n",
    "- On Kaggle the prediction are saved as CSV and submitted like that\n",
    "\n",
    "# Missing Values\n",
    "- if we have missing values in a dataset we can do one of three things: drop the colum or the row that contains the NaN values. We can use imputation instead by giving it some value (mean, median, random etc.). We can also do imputation and add a feature that says that a particular column was inputed, so that the classifier use this information if needed."
   ]
  }
 ],
 "metadata": {
  "kernelspec": {
   "display_name": "Python 3",
   "language": "python",
   "name": "python3"
  },
  "language_info": {
   "codemirror_mode": {
    "name": "ipython",
    "version": 3
   },
   "file_extension": ".py",
   "mimetype": "text/x-python",
   "name": "python",
   "nbconvert_exporter": "python",
   "pygments_lexer": "ipython3",
   "version": "3.7.3"
  }
 },
 "nbformat": 4,
 "nbformat_minor": 2
}
