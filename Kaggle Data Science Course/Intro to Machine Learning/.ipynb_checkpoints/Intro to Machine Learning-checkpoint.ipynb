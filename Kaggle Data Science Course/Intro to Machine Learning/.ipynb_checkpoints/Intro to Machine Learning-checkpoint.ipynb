{
 "cells": [
  {
   "cell_type": "markdown",
   "metadata": {},
   "source": [
    "# How Models Work\n",
    "- Good starting example using decision trees\n",
    "\n",
    "# Basic Data Exploration\n",
    "- It introduce pandas\n",
    "- df.describe() will show us some basic statistics on the data\n",
    "- content also straightforward and simple\n",
    "- Exercices was basic fill in the blank\n",
    "\n",
    "# Your First Machine Learning Model\n",
    "- df.columns will show you the column name in your dataframe\n",
    "- dropna(axis=0) will drop missing values\n",
    "- Serie is like a dataframe with a single column\n",
    "- good practice with model having randomness is to define a seed (random state)\n",
    "- the exercices were pretty much the kind you just have to type the stuff hey ask you too, however its a good one to demistify the tools we are using.\n",
    "\n",
    "# Model Validation\n",
    "- MAE = mean absolute error: on average or prediction are off by X\n",
    "- In sample score is using the same data for both the training and test data\n",
    "- When we use data from outside the training data (validation data) we can calculate the out sample score\n",
    "- a good value for MAE depends largely on the range of value possible for the dataset and our error tolerance\n",
    "\n",
    "# Random Forest\n",
    "- Super simple module which go quickly on why RF are better than normal decision tree\n",
    "\n",
    "# Machine Learning Competition\n",
    "- Their exercice is a bit broken, will download the data and train my model locally"
   ]
  },
  {
   "cell_type": "code",
   "execution_count": null,
   "metadata": {},
   "outputs": [],
   "source": []
  }
 ],
 "metadata": {
  "kernelspec": {
   "display_name": "Python 3",
   "language": "python",
   "name": "python3"
  },
  "language_info": {
   "codemirror_mode": {
    "name": "ipython",
    "version": 3
   },
   "file_extension": ".py",
   "mimetype": "text/x-python",
   "name": "python",
   "nbconvert_exporter": "python",
   "pygments_lexer": "ipython3",
   "version": "3.7.3"
  }
 },
 "nbformat": 4,
 "nbformat_minor": 2
}
