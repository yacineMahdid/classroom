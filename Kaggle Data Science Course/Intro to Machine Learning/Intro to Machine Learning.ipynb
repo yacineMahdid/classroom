{
 "cells": [
  {
   "cell_type": "markdown",
   "metadata": {},
   "source": [
    "# How Models Work\n",
    "- Good starting example using decision trees\n",
    "\n",
    "# Basic Data Exploration\n",
    "- It introduce pandas\n",
    "- df.describe() will show us some basic statistics on the data\n",
    "- content also straightforward and simple\n",
    "- Exercices was basic fill in the blank\n",
    "\n",
    "# Your First Machine Learning Model\n",
    "- df.columns will show you the column name in your dataframe\n",
    "- dropna(axis=0) will drop missing values\n",
    "- Serie is like a dataframe with a single column\n",
    "- good practice with model having randomness is to definer a seed (random state)\n",
    "- the exercices were pretty much the kind you just have to type the stuff hey"
   ]
  }
 ],
 "metadata": {
  "kernelspec": {
   "display_name": "Python 3",
   "language": "python",
   "name": "python3"
  },
  "language_info": {
   "codemirror_mode": {
    "name": "ipython",
    "version": 3
   },
   "file_extension": ".py",
   "mimetype": "text/x-python",
   "name": "python",
   "nbconvert_exporter": "python",
   "pygments_lexer": "ipython3",
   "version": "3.7.3"
  }
 },
 "nbformat": 4,
 "nbformat_minor": 2
}
